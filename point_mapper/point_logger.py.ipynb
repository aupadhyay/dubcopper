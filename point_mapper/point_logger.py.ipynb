{
 "cells": [
  {
   "cell_type": "code",
   "execution_count": null,
   "metadata": {
    "scrolled": true
   },
   "outputs": [
    {
     "data": {
      "image/png": "[encoded data removed]",
      "text/plain": [
       "<Figure size 432x288 with 1 Axes>"
      ]
     },
     "metadata": {
      "needs_background": "light"
     },
     "output_type": "display_data"
    }
   ],
   "source": [
    "%matplotlib inline\n",
    "points = []\n",
    "from serial import Serial\n",
    "from IPython.display import clear_output\n",
    "\n",
    "\n",
    "\n",
    "state = \"init\"\n",
    "with Serial('/dev/cu.usbmodem14201', 9600, timeout=1) as ser:\n",
    "    while 1:\n",
    "        line = ser.readline()\n",
    "        if \"end\" in line.decode('UTF-8'):\n",
    "            break\n",
    "        if '*' in line.decode('UTF-8'):\n",
    "            state = line.decode('UTF-8')[1:-2]\n",
    "        if '(' in line.decode('UTF-8'):\n",
    "            #print(line)\n",
    "            x, y = line.decode('UTF-8')[1:-3].split(',')\n",
    "            x, y = int(x), int(y)\n",
    "            points.append((x, y))\n",
    "            clear_output(wait=True)\n",
    "            a = [p[0] for p in points]\n",
    "            b = [p[1] for p in points]\n",
    "            plt.title(state)\n",
    "            plt.scatter(a, b)\n",
    "            plt.pause(0.1)\n",
    "            \n",
    "plt.show()"
   ]
  },
  {
   "cell_type": "code",
   "execution_count": 12,
   "metadata": {
    "collapsed": true
   },
   "outputs": [
    {
     "name": "stdout",
     "output_type": "stream",
     "text": [
      "[(0, 0), (0, 1), (0, 2), (0, 3), (0, 4), (0, 5), (0, 6), (0, 7), (0, 8), (0, 9), (0, 10), (0, 10), (1, 10), (2, 10), (3, 10), (4, 10), (5, 10), (6, 10), (7, 10), (8, 10), (9, 10), (10, 10), (10, 10), (10, 9), (10, 8), (10, 7), (10, 6), (10, 5), (10, 4), (10, 3), (10, 2), (10, 1), (10, 0), (10, -1), (10, -2), (10, -3), (10, -4), (10, -5), (10, -6), (10, -7), (10, -8), (10, -9), (10, -10), (10, -10), (10, -9), (10, -8), (10, -7), (10, -6), (10, -5), (10, -4), (10, -3), (10, -2), (10, -1), (10, 0), (10, 0), (9, 0), (8, 0), (7, 0), (6, 0), (5, 0), (4, 0), (3, 0), (2, 0), (1, 0), (0, 0)]\n"
     ]
    }
   ],
   "source": [
    "# sample grid\n",
    "points = [(0, y) for y in range(11)]\n",
    "points.extend([(x, 10) for x in range(11)])\n",
    "points.extend([(10, y) for y in range(10, -11, -1)])\n",
    "points.extend([(x, -10) for x in range(10, -11)])\n",
    "points.extend([(10, y) for y in range(-10, 1)])\n",
    "points.extend([(x, 0) for x in range(10, -11)])\n",
    "points.extend([(x, 0) for x in range(10, -1, -1)])\n",
    "print(points)"
   ]
  },
  {
   "cell_type": "code",
   "execution_count": 4,
   "metadata": {},
   "outputs": [
    {
     "data": {
      "text/plain": [
       "[]"
      ]
     },
     "execution_count": 4,
     "metadata": {},
     "output_type": "execute_result"
    },
    {
     "data": {
      "image/png": "[encoded data removed]",
      "text/plain": [
       "<Figure size 432x288 with 1 Axes>"
      ]
     },
     "metadata": {
      "needs_background": "light"
     },
     "output_type": "display_data"
    }
   ],
   "source": [
    "import matplotlib.pyplot as plt\n",
    "a = [p[0] for p in points]\n",
    "b = [p[1] for p in points]\n",
    "plt.scatter(a, b)\n",
    "plt.plot()"
   ]
  },
  {
   "cell_type": "code",
   "execution_count": 10,
   "metadata": {},
   "outputs": [
    {
     "name": "stdout",
     "output_type": "stream",
     "text": [
      "[(1, 0), (2, 0), (3, 0), (4, 0), (5, 0), (6, 0), (7, 0), (8, 0), (9, 0), (10, 0), (11, 0), (12, 0), (13, 0), (14, 0), (15, 0), (16, 0), (17, 0), (18, 0), (19, 0), (20, 0), (21, 0), (22, 0), (23, 0), (24, 0), (25, 0), (26, 0), (27, 0), (28, 0), (29, 0), (30, 0), (31, 0), (32, 0), (33, 0), (34, 0), (35, 0), (36, 0), (37, 0), (38, 0), (38, 1), (38, 2), (38, 3), (38, 4), (38, 5), (38, 6), (38, 7), (38, 8), (38, 9), (38, 10), (38, 11), (38, 12), (38, 13), (38, 14), (38, 15), (38, 16), (38, 17), (38, 18), (38, 19), (38, 20), (39, 20), (40, 20), (41, 20), (42, 20), (43, 20), (44, 20), (45, 20), (46, 20), (47, 20), (48, 20), (49, 20), (50, 20), (51, 20), (52, 20), (53, 20), (54, 20), (55, 20), (56, 20), (57, 20), (58, 20), (59, 20), (60, 20), (61, 20), (62, 20), (63, 20), (64, 20), (65, 20), (66, 20), (67, 20), (68, 20), (69, 20), (70, 20), (71, 20), (72, 20), (73, 20), (74, 20), (75, 20), (76, 20), (77, 20), (78, 20), (79, 20), (80, 20), (81, 20), (82, 20), (83, 20), (84, 20), (85, 20), (86, 20), (87, 20), (88, 20), (89, 20), (90, 20), (91, 20), (92, 20), (93, 20), (94, 20), (95, 20), (96, 20), (97, 20), (98, 20), (99, 20), (100, 20), (101, 20), (102, 20), (103, 20), (104, 20), (105, 20), (106, 20), (107, 20), (108, 20), (109, 20), (110, 20), (111, 20), (112, 20), (113, 20), (114, 20), (115, 20), (116, 20), (117, 20), (118, 20), (119, 20), (120, 20), (121, 20), (122, 20), (123, 20), (124, 20), (125, 20), (126, 20), (127, 20), (128, 20), (129, 20), (130, 20), (131, 20), (132, 20), (133, 20)]\n"
     ]
    }
   ],
   "source": [
    "print(points)"
   ]
  },
  {
   "cell_type": "code",
   "execution_count": null,
   "metadata": {},
   "outputs": [],
   "source": []
  }
 ],
 "metadata": {
  "kernelspec": {
   "display_name": "Python 3",
   "language": "python",
   "name": "python3"
  },
  "language_info": {
   "codemirror_mode": {
    "name": "ipython",
    "version": 3
   },
   "file_extension": ".py",
   "mimetype": "text/x-python",
   "name": "python",
   "nbconvert_exporter": "python",
   "pygments_lexer": "ipython3",
   "version": "3.7.6"
  }
 },
 "nbformat": 4,
 "nbformat_minor": 2
}
