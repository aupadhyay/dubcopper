{
 "cells": [
  {
   "cell_type": "code",
   "execution_count": null,
   "metadata": {
    "scrolled": true
   },
   "outputs": [],
   "source": [
    "points = []\n",
    "from serial import Serial\n",
    "with Serial('/dev/cu.usbmodem14101', 9600, timeout=1) as ser:\n",
    "    while 1:\n",
    "        line = ser.readline()\n",
    "        if \"end\" in line.decode('UTF-8'):\n",
    "            break\n",
    "        x, y = line.decode('UTF-8')[1:-3].split(',')\n",
    "        x, y = int(x), int(y)\n",
    "        points.append((x, y))"
   ]
  },
  {
   "cell_type": "code",
   "execution_count": 12,
   "metadata": {
    "collapsed": true
   },
   "outputs": [
    {
     "name": "stdout",
     "output_type": "stream",
     "text": [
      "[(0, 0), (0, 1), (0, 2), (0, 3), (0, 4), (0, 5), (0, 6), (0, 7), (0, 8), (0, 9), (0, 10), (0, 10), (1, 10), (2, 10), (3, 10), (4, 10), (5, 10), (6, 10), (7, 10), (8, 10), (9, 10), (10, 10), (10, 10), (10, 9), (10, 8), (10, 7), (10, 6), (10, 5), (10, 4), (10, 3), (10, 2), (10, 1), (10, 0), (10, -1), (10, -2), (10, -3), (10, -4), (10, -5), (10, -6), (10, -7), (10, -8), (10, -9), (10, -10), (10, -10), (10, -9), (10, -8), (10, -7), (10, -6), (10, -5), (10, -4), (10, -3), (10, -2), (10, -1), (10, 0), (10, 0), (9, 0), (8, 0), (7, 0), (6, 0), (5, 0), (4, 0), (3, 0), (2, 0), (1, 0), (0, 0)]\n"
     ]
    }
   ],
   "source": [
    "# sample grid\n",
    "points = [(0, y) for y in range(11)]\n",
    "points.extend([(x, 10) for x in range(11)])\n",
    "points.extend([(10, y) for y in range(10, -11, -1)])\n",
    "points.extend([(x, -10) for x in range(10, -11)])\n",
    "points.extend([(10, y) for y in range(-10, 1)])\n",
    "points.extend([(x, 0) for x in range(10, -11)])\n",
    "points.extend([(x, 0) for x in range(10, -1, -1)])\n",
    "print(points)"
   ]
  },
  {
   "cell_type": "code",
   "execution_count": 14,
   "metadata": {},
   "outputs": [
    {
     "data": {
      "text/plain": [
       "[]"
      ]
     },
     "execution_count": 14,
     "metadata": {},
     "output_type": "execute_result"
    },
    {
     "data": {
      "image/png": "[encoded data removed]",
      "text/plain": [
       "<Figure size 432x288 with 1 Axes>"
      ]
     },
     "metadata": {
      "needs_background": "light"
     },
     "output_type": "display_data"
    }
   ],
   "source": [
    "import matplotlib.pyplot as plt\n",
    "a = [p[0] for p in points]\n",
    "b = [p[1] for p in points]\n",
    "plt.scatter(a, b)\n",
    "plt.plot()"
   ]
  },
  {
   "cell_type": "code",
   "execution_count": null,
   "metadata": {},
   "outputs": [],
   "source": []
  }
 ],
 "metadata": {
  "kernelspec": {
   "display_name": "Python 3",
   "language": "python",
   "name": "python3"
  }
 },
 "nbformat": 4,
 "nbformat_minor": 2
}
